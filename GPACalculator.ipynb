{
  "nbformat": 4,
  "nbformat_minor": 0,
  "metadata": {
    "colab": {
      "name": "GPACalculator",
      "provenance": []
    },
    "kernelspec": {
      "name": "python3",
      "display_name": "Python 3"
    }
  },
  "cells": [
    {
      "cell_type": "markdown",
      "metadata": {
        "id": "wRP6_b1pjehX",
        "colab_type": "text"
      },
      "source": [
        "## **GPA Calculator for 1st Semester**\n",
        "\n"
      ]
    },
    {
      "cell_type": "code",
      "metadata": {
        "id": "hVmUW5R2ZBtm",
        "colab_type": "code",
        "colab": {}
      },
      "source": [
        "class ChemCycle:\n",
        "  def calc(self,maths, bio, bet, psuc, chem, evs, cheml, psucl,eg):\n",
        "    grade=[maths, bio, bet, psuc, chem, evs, cheml, psucl,eg]\n",
        "    cred=[4,3,3,3,3,2,1,1,2]\n",
        "    total_cred=0\n",
        "    total_points=0\n",
        "    i=0\n",
        "    while i < 9:\n",
        "      if grade[i]=='+A' or grade[i]=='+a':\n",
        "        total_cred+=10*cred[i]\n",
        "        total_points+=cred[i]\n",
        "      if grade[i]=='A' or grade[i]=='a':\n",
        "        total_cred+=9*cred[i]\n",
        "        total_points+=cred[i]\n",
        "      if grade[i]=='B' or grade[i]=='b':\n",
        "        total_cred+=8*cred[i]\n",
        "        total_points+=cred[i]\n",
        "      if grade[i]=='C' or grade[i]=='c':\n",
        "        total_cred+=7*cred[i]\n",
        "        total_points+=cred[i]\n",
        "      if grade[i]=='D' or grade[i]=='d':\n",
        "        total_cred+=6*cred[i]\n",
        "        total_points+=cred[i]\n",
        "      if grade[i]=='E' or grade[i]=='e':\n",
        "        total_cred+=10*cred[i]\n",
        "        total_points+=cred[i]\n",
        "      i+=1\n",
        "    gpa=total_cred/total_points\n",
        "    print(\"Total Credits earned: \",total_cred)\n",
        "    print(\"Total Points given \",total_points)\n",
        "    print(\"GPA: \",round(gpa,2))\n",
        "\n",
        "\n",
        "class PhyCycle:\n",
        "  def calc(self,maths, phy, be, mos, bme, eng, phyl, wrkshp,eg):\n",
        "    grade=[maths, phy, be, mos, bme, eng, phyl, wrkshp,eg]\n",
        "    cred=[4,3,3,3,3,2,1,1,2]\n",
        "    total_cred=0\n",
        "    total_points=0\n",
        "    i=0\n",
        "    while i < 9:\n",
        "      if grade[i]=='+A' or grade[i]=='+a':\n",
        "        total_cred+=10*cred[i]\n",
        "        total_points+=cred[i]\n",
        "      if grade[i]=='A' or grade[i]=='a':\n",
        "        total_cred+=9*cred[i]\n",
        "        total_points+=cred[i]\n",
        "      if grade[i]=='B' or grade[i]=='b':\n",
        "        total_cred+=8*cred[i]\n",
        "        total_points+=cred[i]\n",
        "      if grade[i]=='C' or grade[i]=='c':\n",
        "        total_cred+=7*cred[i]\n",
        "        total_points+=cred[i]\n",
        "      if grade[i]=='D' or grade[i]=='d':\n",
        "        total_cred+=6*cred[i]\n",
        "        total_points+=cred[i]\n",
        "      if grade[i]=='E' or grade[i]=='e':\n",
        "        total_cred+=10*cred[i]\n",
        "        total_points+=cred[i]\n",
        "      i+=1\n",
        "    gpa=total_cred/total_points\n",
        "    print(\"Total Credits earned: \",total_cred)\n",
        "    print(\"Total Points given \",total_points)\n",
        "    print(\"GPA: \",round(gpa,2))"
      ],
      "execution_count": null,
      "outputs": []
    },
    {
      "cell_type": "markdown",
      "metadata": {
        "id": "ya6vdjeZu8Hf",
        "colab_type": "text"
      },
      "source": [
        "**To calculate GPA:**\n",
        "1. Create an instance of either Chemistry or Physics Cycle\n",
        "2. Call the calculate function and enter the grades:\n",
        "*   For Chemistry Cycle enter the subject grades in the order: Mathematics, Biology, BET, PSUC, EVS, Chemistry Lab, PSUC Lab, EG\n",
        "*   For Physics Cycle enter the subject grades in the order: Mathematics, Physics, BE, MoS, BME, English, Physics Lab, Workshop Lab, EG\n",
        "\n",
        "**NOTE: The grades that can be entered are +A, A, B, C, D, E. The input of grades is not case sensitive**"
      ]
    },
    {
      "cell_type": "markdown",
      "metadata": {
        "id": "fUaOe089y3UN",
        "colab_type": "text"
      },
      "source": [
        "**Example:**\n",
        "```\n",
        "x=ChemCycle()\n",
        "x=calc(\"a\",\"b\",\"c\",\"d\",\"e\",\"a\",\"b\",\"c\")\n",
        "```"
      ]
    },
    {
      "cell_type": "code",
      "metadata": {
        "id": "LJuKiUAKuTDi",
        "colab_type": "code",
        "colab": {}
      },
      "source": [
        ""
      ],
      "execution_count": null,
      "outputs": []
    }
  ]
}